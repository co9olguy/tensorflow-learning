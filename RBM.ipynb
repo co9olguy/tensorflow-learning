{
 "cells": [
  {
   "cell_type": "code",
   "execution_count": 1,
   "metadata": {
    "collapsed": true
   },
   "outputs": [],
   "source": [
    "#initialization\n",
    "IMAGE_SIZE = 27*27\n",
    "NUM_V = IMAGE_SIZE\n",
    "NUM_H = NUM_V"
   ]
  },
  {
   "cell_type": "code",
   "execution_count": 2,
   "metadata": {
    "collapsed": false
   },
   "outputs": [
    {
     "name": "stdout",
     "output_type": "stream",
     "text": [
      "Extracting MNIST_data/train-images-idx3-ubyte.gz\n",
      "Extracting MNIST_data/train-labels-idx1-ubyte.gz\n",
      "Extracting MNIST_data/t10k-images-idx3-ubyte.gz\n",
      "Extracting MNIST_data/t10k-labels-idx1-ubyte.gz\n"
     ]
    }
   ],
   "source": [
    "#load up MNIST data\n",
    "import input_data\n",
    "mnist = input_data.read_data_sets('MNIST_data', one_hot=True)"
   ]
  },
  {
   "cell_type": "code",
   "execution_count": 3,
   "metadata": {
    "collapsed": true
   },
   "outputs": [],
   "source": [
    "#start a tensorflow interactive session\n",
    "#Note: for later, will want to build the graph first\n",
    "import tensorflow as tf\n",
    "sess = tf.InteractiveSession()"
   ]
  },
  {
   "cell_type": "code",
   "execution_count": 4,
   "metadata": {
    "collapsed": true
   },
   "outputs": [],
   "source": [
    "#make placeholder for the input images (shape=[batch_size, num_pixels])\n",
    "v_d = tf.placeholder(\"float\", shape=[None, IMAGE_SIZE])"
   ]
  },
  {
   "cell_type": "code",
   "execution_count": 5,
   "metadata": {
    "collapsed": false
   },
   "outputs": [],
   "source": [
    "#make placeholders for the visible and hidden layer states\n",
    "v_s = tf.placeholder(\"float\", shape=[None, NUM_V])\n",
    "h_s = tf.placeholder(\"float\", shape=[None, NUM_H])"
   ]
  },
  {
   "cell_type": "code",
   "execution_count": 6,
   "metadata": {
    "collapsed": true
   },
   "outputs": [],
   "source": [
    "#define weights and biases for visible/hidden units\n",
    "a = tf.Variable(tf.random_normal([NUM_V]))\n",
    "b = tf.Variable(tf.random_normal([NUM_H]))\n",
    "W = tf.Variable(tf.random_normal([NUM_H,NUM_V]))"
   ]
  },
  {
   "cell_type": "code",
   "execution_count": 7,
   "metadata": {
    "collapsed": false
   },
   "outputs": [],
   "source": [
    "#initialize variables in session\n",
    "sess.run(tf.initialize_all_variables())"
   ]
  },
  {
   "cell_type": "code",
   "execution_count": 8,
   "metadata": {
    "collapsed": false
   },
   "outputs": [],
   "source": [
    "#define activation functions for visible/hidden units\n",
    "h = tf.nn.softmax(tf.matmul(v_s,W)+b)\n",
    "v = tf.nn.softmax(tf.matmul(h_s,W)+a)"
   ]
  },
  {
   "cell_type": "code",
   "execution_count": 9,
   "metadata": {
    "collapsed": true
   },
   "outputs": [],
   "source": [
    "#load up a minibatch\n",
    "#Note: the next_batch method gives both the image and its label.\n",
    "#We only take the image (slot '0')\n",
    "batch = mnist.train.next_batch(2)[0][:,0:IMAGE_SIZE] #temp"
   ]
  },
  {
   "cell_type": "code",
   "execution_count": 11,
   "metadata": {
    "collapsed": false,
    "scrolled": true
   },
   "outputs": [
    {
     "name": "stdout",
     "output_type": "stream",
     "text": [
      "[[  5.84473930e-13   5.48698656e-11   1.69345409e-21 ...,   2.25452015e-14\n",
      "    8.68864505e-20   2.24096172e-16]\n",
      " [  4.28826336e-10   4.77682839e-25   9.99072549e-18 ...,   2.47978270e-11\n",
      "    3.32808802e-12   1.48628019e-19]] [[  2.90610292e-03   3.27589252e-04   5.82576613e-04 ...,   2.27163255e-04\n",
      "    5.20817877e-04   1.46559847e-03]\n",
      " [  7.84218404e-03   1.36512576e-03   8.40729117e-05 ...,   2.01267016e-04\n",
      "    7.68433034e-04   3.37061560e-04]] [[ 0.00054298  0.00175262  0.00036481 ...,  0.0052954   0.00082486\n",
      "   0.00078058]\n",
      " [ 0.00060451  0.00177239  0.00036828 ...,  0.00546977  0.00080158\n",
      "   0.00076059]] [[ 0.00525292  0.00113996  0.00035864 ...,  0.0002986   0.00058869\n",
      "   0.00108561]\n",
      " [ 0.00526847  0.0011428   0.000359   ...,  0.00029782  0.00058543\n",
      "   0.00108348]]\n"
     ]
    }
   ],
   "source": [
    "h1 = sess.run(h, feed_dict = {v_s: batch})\n",
    "v1 = sess.run(v, feed_dict = {h_s: h1})\n",
    "h2 = sess.run(h, feed_dict = {v_s: v1})\n",
    "v2 = sess.run(v, feed_dict = {h_s: h2})\n",
    "print h1,v1,h2,v2"
   ]
  },
  {
   "cell_type": "code",
   "execution_count": null,
   "metadata": {
    "collapsed": true
   },
   "outputs": [],
   "source": []
  }
 ],
 "metadata": {
  "kernelspec": {
   "display_name": "Python 2",
   "language": "python",
   "name": "python2"
  },
  "language_info": {
   "codemirror_mode": {
    "name": "ipython",
    "version": 2
   },
   "file_extension": ".py",
   "mimetype": "text/x-python",
   "name": "python",
   "nbconvert_exporter": "python",
   "pygments_lexer": "ipython2",
   "version": "2.7.10"
  }
 },
 "nbformat": 4,
 "nbformat_minor": 0
}
