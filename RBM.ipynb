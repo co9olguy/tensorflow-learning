{
 "cells": [
  {
   "cell_type": "markdown",
   "metadata": {},
   "source": [
    "# Initialization"
   ]
  },
  {
   "cell_type": "code",
   "execution_count": 1,
   "metadata": {
    "collapsed": false
   },
   "outputs": [
    {
     "name": "stdout",
     "output_type": "stream",
     "text": [
      "Extracting MNIST_data/train-images-idx3-ubyte.gz\n",
      "Extracting MNIST_data/train-labels-idx1-ubyte.gz\n",
      "Extracting MNIST_data/t10k-images-idx3-ubyte.gz\n",
      "Extracting MNIST_data/t10k-labels-idx1-ubyte.gz\n"
     ]
    },
    {
     "data": {
      "text/plain": [
       "<matplotlib.figure.Figure at 0x7fb21c361bd0>"
      ]
     },
     "metadata": {},
     "output_type": "display_data"
    }
   ],
   "source": [
    "%matplotlib inline\n",
    "import matplotlib.pyplot as plt\n",
    "import matplotlib.image as mpimg\n",
    "import numpy as np\n",
    "import matplotlib.cm as cm\n",
    "plt.gray();\n",
    "\n",
    "import tensorflow as tf\n",
    "tf.set_random_seed(0)\n",
    "import time\n",
    "\n",
    "#load up MNIST data\n",
    "import input_data\n",
    "mnist_data = input_data.read_data_sets('MNIST_data', one_hot=True)"
   ]
  },
  {
   "cell_type": "code",
   "execution_count": 2,
   "metadata": {
    "collapsed": true
   },
   "outputs": [],
   "source": [
    "IMAGE_HEIGHT = 28\n",
    "IMAGE_WIDTH = 28\n",
    "IMAGE_CHANNELS = 1\n",
    "IMAGE_SIZE = IMAGE_HEIGHT*IMAGE_WIDTH\n",
    "NUM_V = IMAGE_SIZE\n",
    "NUM_H = NUM_V\n",
    "LOGDIR = 'RBM'\n",
    "BATCH_SIZE = 20 #10\n",
    "LEARN_RATE = 0.1 #0.01 #0.25 #0.1 #10.0\n",
    "W_STDDEV = 0.01 #2.0\n",
    "WEIGHT_COST = 0.01"
   ]
  },
  {
   "cell_type": "code",
   "execution_count": 3,
   "metadata": {
    "collapsed": false
   },
   "outputs": [
    {
     "name": "stderr",
     "output_type": "stream",
     "text": [
      "/home/coolguy/anaconda/lib/python2.7/site-packages/ipykernel/__main__.py:4: RuntimeWarning: divide by zero encountered in log\n"
     ]
    }
   ],
   "source": [
    "## use full dataset to help with initalizing biases\n",
    "init_batch = mnist_data.train.next_batch(mnist_data.train.num_examples)[0][:,0:IMAGE_SIZE]\n",
    "prob_data = np.mean(init_batch, axis=0)\n",
    "vis_init = np.nan_to_num(np.log(prob_data/(1-prob_data)))\n",
    "vis_init[np.abs(vis_init)>1.0e38]=-1000 #rescale gigantic biases"
   ]
  },
  {
   "cell_type": "code",
   "execution_count": 4,
   "metadata": {
    "collapsed": false
   },
   "outputs": [],
   "source": [
    "#define placeholders, functions, and variables for visible/hidden units\n",
    "\n",
    "#joint global variables\n",
    "with tf.name_scope('joint') as scope:\n",
    "    joint_scope = scope\n",
    "    #weights between hidden and visible layers\n",
    "    W = tf.Variable(tf.truncated_normal(shape=[NUM_V,NUM_H], stddev=W_STDDEV), name='weights') \n",
    "\n",
    "#placeholders\n",
    "with tf.name_scope('visible') as scope:\n",
    "    vis_scope = scope\n",
    "    v_probabilities = tf.placeholder(\"float\", shape=[None, NUM_V], name='vis_probs')\n",
    "    v_state = tf.placeholder(\"float\", shape=[None, NUM_V], name='vis_state')\n",
    "    \n",
    "with tf.name_scope('hidden') as scope:\n",
    "    hid_scope = scope    \n",
    "    h_probabilities = tf.placeholder(\"float\", shape=[None, NUM_H], name='hid_probs')\n",
    "    h_state = tf.placeholder(\"float\", shape=[None, NUM_H], name='hid_state')\n",
    "\n",
    "with tf.name_scope(vis_scope) as scope:\n",
    "    #bias variable\n",
    "    a = tf.Variable(vis_init, name='bias')\n",
    "    #activation function\n",
    "    v_prob = tf.nn.sigmoid(tf.matmul(h_state, W, transpose_b=True)+a, name=\"visible_probs\")\n",
    "    #conversion function for probabilities to binary values\n",
    "    v_prob_to_state = tf.to_float(tf.less_equal(tf.random_uniform(shape=tf.TensorShape([BATCH_SIZE,NUM_V])), v_probabilities), name='prob_to_state')\n",
    "    #convert to form more conducive to tensor product\n",
    "    v_reshaped = tf.reshape(v_state, [BATCH_SIZE, NUM_V, 1], name='vis_reshaped')\n",
    "    #average over training set\n",
    "    v_mean = tf.reduce_mean(v_state,0, name='vis_batch_mean')\n",
    "    \n",
    "with tf.name_scope(hid_scope) as scope:\n",
    "    #bias variable\n",
    "    b = tf.Variable(tf.zeros(shape=[NUM_H]), name='bias')\n",
    "    #activation function\n",
    "    h_prob = tf.nn.sigmoid(tf.matmul(v_state, W,)+b, name=\"hidden_probs\")\n",
    "    #conversion function for probabilities to binary values\n",
    "    h_prob_to_state = tf.to_float(tf.less_equal(tf.random_uniform(shape=tf.TensorShape([BATCH_SIZE,NUM_H])), h_probabilities), name='prob_to_state')\n",
    "    #convert to form more conducive to tensor product\n",
    "    h_reshaped = tf.reshape(h_state, [BATCH_SIZE, 1, NUM_H], name='hid_reshaped')\n",
    "    h_mean = tf.reduce_mean(h_state,0, name='hid_batch_mean')\n",
    "\n",
    "with tf.name_scope(joint_scope) as scope: #to do: fix this\n",
    "    v_times_h = tf.batch_matmul(v_reshaped,h_reshaped, name='vh_outer') \n",
    "    vh_expval = tf.reduce_mean(v_times_h,0, name='vh_batch_mean')"
   ]
  },
  {
   "cell_type": "code",
   "execution_count": 5,
   "metadata": {
    "collapsed": false,
    "scrolled": true
   },
   "outputs": [],
   "source": [
    "#cost function \n",
    "with tf.name_scope('cost') as scope:\n",
    "    #placeholders to hold the expectation values for feeding into cost function\n",
    "    v_expval_data = tf.placeholder(\"float\", shape=[NUM_V,], name='vis_expval_data')\n",
    "    h_expval_data = tf.placeholder(\"float\", shape=[NUM_H,], name='hid_expval_data')\n",
    "    vh_expval_data = tf.placeholder(\"float\", shape=[NUM_V, NUM_H], name='vh_expval_data')\n",
    "    v_expval_model = tf.placeholder(\"float\", shape=[NUM_V,], name='vis_expval_model')\n",
    "    h_expval_model = tf.placeholder(\"float\", shape=[NUM_H,], name='hid_expval_model')\n",
    "    vh_expval_model = tf.placeholder(\"float\", shape=[NUM_V, NUM_H], name='vh_expval_model')\n",
    "\n",
    "    a_term = tf.reduce_sum(tf.mul(a, v_expval_data - v_expval_model), name = 'a_term')\n",
    "    b_term = tf.reduce_sum(tf.mul(b, h_expval_data - h_expval_model), name = 'b_term')\n",
    "    w_term = tf.reduce_sum(tf.reshape(tf.mul(W, vh_expval_data - vh_expval_model), [-1]), name = 'w_term')\n",
    "    E = a_term + b_term + w_term\n",
    "    log_prob = -E #tf.log(-E)\n",
    "    \n",
    "    weight_cost = WEIGHT_COST*0.5*(tf.reduce_sum(tf.square(W)) )# + \\\n",
    "#                                   tf.reduce_sum(tf.square(a)) + \\\n",
    "#                                   tf.reduce_sum(tf.square(b)) + \\\n",
    "#                                   ) \n",
    "    \n",
    "    cost = log_prob #+ weight_cost"
   ]
  },
  {
   "cell_type": "code",
   "execution_count": 6,
   "metadata": {
    "collapsed": false
   },
   "outputs": [],
   "source": [
    "#training ops\n",
    "\n",
    "#summarizers\n",
    "tf.scalar_summary('cost', cost)\n",
    "\n",
    "#generated_images = tf.placeholder(\"float\", shape=[None, IMAGE_HEIGHT, IMAGE_WIDTH, IMAGE_CHANNELS], name='gen_image')\n",
    "#tf.image_summary('sample_images', generated_images)\n",
    "\n",
    "#instantiate gradient optimizer\n",
    "optimizer = tf.train.GradientDescentOptimizer(LEARN_RATE)\n",
    "\n",
    "#global training step counter\n",
    "global_step = tf.Variable(0, name='global_step', trainable=False)\n",
    "\n",
    "#train_op updates the trainable weights and the global step\n",
    "train_op = optimizer.minimize(cost, global_step = global_step)\n",
    "\n",
    "# collect all summaries together into one op\n",
    "summary_op = tf.merge_all_summaries()"
   ]
  },
  {
   "cell_type": "markdown",
   "metadata": {},
   "source": [
    "# Run things in session"
   ]
  },
  {
   "cell_type": "code",
   "execution_count": 8,
   "metadata": {
    "collapsed": false
   },
   "outputs": [],
   "source": [
    "#start a tensorflow interactive session\n",
    "sess = tf.InteractiveSession()\n",
    "\n",
    "#initialize variables in session\n",
    "init = tf.initialize_all_variables()\n",
    "sess.run(init)\n",
    "\n",
    "#instantiate a SummaryWriter to save the graph and summaries for inspection\n",
    "summary_writer = tf.train.SummaryWriter(LOGDIR,sess.graph_def)"
   ]
  },
  {
   "cell_type": "code",
   "execution_count": 9,
   "metadata": {
    "collapsed": false
   },
   "outputs": [],
   "source": [
    "def update_vhv(start_state, num_iterations):\n",
    "    \n",
    "    #update hidden layer using start_state clamped to visible layer\n",
    "    hidden_probs = sess.run(h_prob, feed_dict={v_state: start_state})\n",
    "    hidden_state = sess.run(h_prob_to_state, feed_dict={h_probabilities: hidden_probs})\n",
    "    \n",
    "    #update visible layer\n",
    "    visible_probs = sess.run(v_prob, feed_dict={h_state: hidden_state})\n",
    "    visible_state = sess.run(v_prob_to_state, feed_dict={v_probabilities: visible_probs})\n",
    "    \n",
    "    #repeat until desired number of iterations\n",
    "    if num_iterations > 1:\n",
    "        return update_vhv(visible_state, num_iterations-1)\n",
    "    else:\n",
    "        #use probabilities in final output\n",
    "        return visible_probs\n",
    "    \n",
    "def update_hvh(start_state, num_iterations):\n",
    "\n",
    "    #update visible layer\n",
    "    visible_probs = sess.run(v_prob, feed_dict={h_state: start_state})\n",
    "    visible_state = sess.run(v_prob_to_state, feed_dict={v_probabilities: visible_probs})\n",
    "    \n",
    "    #update hidden layer using start_state clamped to visible layer\n",
    "    hidden_probs = sess.run(h_prob, feed_dict={v_state: visible_state})\n",
    "    hidden_state = sess.run(h_prob_to_state, feed_dict={h_probabilities: hidden_probs})\n",
    "        \n",
    "    #repeat until desired number of iterations\n",
    "    if num_iterations > 1:\n",
    "        return update_hvh(hidden_state, num_iterations-1)\n",
    "    else:\n",
    "        #use probabilities in final output\n",
    "        return hidden_probs\n",
    "    \n",
    "def build_feed_dict(batch, v_expval_data_pl, h_expval_data_pl, vh_expval_data_pl, v_expval_model_pl, h_expval_model_pl, vh_expval_model_pl):\n",
    "    \n",
    "    ##calculate <v/h/v*h>_data\n",
    "    v_values_data = batch\n",
    "    h_probs_data = sess.run(h_prob, {v_state: batch}) #do we need to randomly select subsets of training images?\n",
    "    h_values_data = sess.run(h_prob_to_state,{h_probabilities: h_probs_data})\n",
    "    vh_values_data = sess.run(v_times_h, {v_state: v_values_data, h_state: h_values_data})\n",
    "    \n",
    "    v_expval_data_curr = sess.run(v_mean, {v_state: v_values_data}) #simply average over the training data here\n",
    "    h_expval_data_curr = sess.run(h_mean, {h_state: h_values_data})\n",
    "    vh_expval_data_curr = sess.run(vh_expval, {v_state: v_values_data, h_state: h_values_data})\n",
    "    \n",
    "    ##calculate <v/h/v*h>_model\n",
    "    visible_probs_cd = update_vhv(batch, cd_steps) #start with training vector (randomly selected?)\n",
    "    visible_values_cd = sess.run(v_prob_to_state, {v_probabilities: visible_probs_cd})\n",
    "\n",
    "    hidden_start_probs = sess.run(h_prob, {v_state: batch}) #do we need to randomly select a training image?\n",
    "    hidden_start_state = sess.run(h_prob_to_state,{h_probabilities: hidden_start_probs})\n",
    "    hidden_probs_cd = update_hvh(hidden_start_state, cd_steps)\n",
    "    hidden_values_cd = sess.run(h_prob_to_state, {h_probabilities: hidden_probs_cd})\n",
    "    \n",
    "    #should we use visible probs for these instead?\n",
    "    vh_values_model = sess.run(v_times_h, {v_state: visible_values_cd, h_state: hidden_values_cd})\n",
    "  \n",
    "    v_expval_model_curr = sess.run(v_mean, feed_dict={v_state: visible_values_cd}) #or use probs?\n",
    "    h_expval_model_curr = sess.run(h_mean, {h_state: hidden_values_cd})\n",
    "    vh_expval_model_curr = sess.run(vh_expval, {v_state: visible_values_cd, h_state: hidden_values_cd})     \n",
    "    \n",
    "    feed_dict = {\n",
    "            v_expval_data_pl: v_expval_data_curr,\n",
    "            h_expval_data_pl:  h_expval_data_curr,\n",
    "            vh_expval_data_pl: vh_expval_data_curr,\n",
    "            v_expval_model_pl: v_expval_model_curr,\n",
    "            h_expval_model_pl: h_expval_model_curr,\n",
    "            vh_expval_model_pl: vh_expval_model_curr\n",
    "    }\n",
    "    \n",
    "    return feed_dict"
   ]
  },
  {
   "cell_type": "code",
   "execution_count": 120,
   "metadata": {
    "collapsed": false,
    "scrolled": true
   },
   "outputs": [
    {
     "name": "stdout",
     "output_type": "stream",
     "text": [
      "Step 41300 (epoch 16): cost = -3.58881187439 (17.5565178394 sec)\n",
      "Step 41400 (epoch 16): cost = -6.87475013733 (36.0822207928 sec)\n",
      "Step 41500 (epoch 16): cost = -21.8811149597 (48.4088590145 sec)\n",
      "Step 41600 (epoch 16): cost = -36.1162719727 (57.1798160076 sec)\n",
      "Step 41700 (epoch 16): cost = -7.48731994629 (56.7106370926 sec)\n",
      "Step 41800 (epoch 16): cost = -14.8740091324 (56.9105870724 sec)\n",
      "Step 41900 (epoch 16): cost = -4.21817588806 (58.2222390175 sec)\n",
      "Step 42000 (epoch 16): cost = -17.8524017334 (57.5009598732 sec)\n",
      "Step 42100 (epoch 16): cost = -13.4559440613 (57.7034208775 sec)\n",
      "Step 42200 (epoch 16): cost = -12.6276226044 (57.980645895 sec)\n",
      "Step 42300 (epoch 16): cost = -8.82434463501 (59.9017159939 sec)\n",
      "Step 42400 (epoch 16): cost = -15.7976360321 (57.7374539375 sec)\n",
      "Step 42500 (epoch 16): cost = -14.7830543518 (59.6955561638 sec)\n",
      "Step 42600 (epoch 16): cost = -5.53691005707 (63.8802371025 sec)\n",
      "Step 42700 (epoch 16): cost = -14.7918539047 (68.3269188404 sec)\n",
      "Step 42800 (epoch 16): cost = -24.3357086182 (67.0303530693 sec)\n",
      "Step 42900 (epoch 16): cost = -16.2083530426 (61.3408010006 sec)\n",
      "Step 43000 (epoch 16): cost = -74.742149353 (62.6882050037 sec)\n",
      "Step 43100 (epoch 16): cost = -37.8027954102 (64.4831390381 sec)\n",
      "Step 43200 (epoch 16): cost = -9.89011192322 (77.6715099812 sec)\n",
      "Step 43300 (epoch 16): cost = -28.2562637329 (72.8230280876 sec)\n",
      "Step 43400 (epoch 16): cost = 2.43044376373 (53.5844311714 sec)\n",
      "Step 43500 (epoch 16): cost = -3.07593536377 (52.4429500103 sec)\n",
      "Step 43600 (epoch 16): cost = -31.3041610718 (53.593572855 sec)\n",
      "Step 43700 (epoch 16): cost = -3.42064666748 (53.8062028885 sec)\n",
      "Step 43800 (epoch 16): cost = -42.1017112732 (51.2785210609 sec)\n",
      "Step 43900 (epoch 16): cost = -22.0262145996 (56.8974950314 sec)\n",
      "Step 44000 (epoch 17): cost = -5.04652404785 (53.6566848755 sec)\n",
      "Step 44100 (epoch 17): cost = -23.4507026672 (61.4576430321 sec)\n",
      "Step 44200 (epoch 17): cost = -31.8945159912 (67.6274988651 sec)\n",
      "Step 44300 (epoch 17): cost = 11.8982982635 (83.9159669876 sec)\n",
      "Step 44400 (epoch 17): cost = -20.1353054047 (76.0482490063 sec)\n",
      "Step 44500 (epoch 17): cost = -11.7569198608 (75.710463047 sec)\n",
      "Step 44600 (epoch 17): cost = -16.8159980774 (77.3503940105 sec)\n",
      "Step 44700 (epoch 17): cost = 5.91460561752 (103.400488138 sec)\n",
      "Step 44800 (epoch 17): cost = 0.00745677947998 (76.4677100182 sec)\n",
      "Step 44900 (epoch 17): cost = -17.8680725098 (106.251493216 sec)\n",
      "Step 45000 (epoch 17): cost = -18.8347930908 (87.7529320717 sec)\n",
      "Step 45100 (epoch 17): cost = -5.27837562561 (120.272450924 sec)\n",
      "Step 45200 (epoch 17): cost = -10.396276474 (71.9492180347 sec)\n",
      "Step 45300 (epoch 17): cost = -12.5195789337 (73.0653760433 sec)\n",
      "Step 45400 (epoch 17): cost = -4.89378070831 (78.6125969887 sec)\n",
      "Step 45500 (epoch 17): cost = -18.8473434448 (79.145195961 sec)\n",
      "Step 45600 (epoch 17): cost = -34.9617500305 (92.5878901482 sec)\n",
      "Step 45700 (epoch 17): cost = -61.4136428833 (85.5298321247 sec)\n",
      "Step 45800 (epoch 17): cost = -16.7882785797 (91.1526529789 sec)\n",
      "Step 45900 (epoch 17): cost = -23.1754283905 (83.0632989407 sec)\n",
      "Step 46000 (epoch 17): cost = -24.1523361206 (79.8390440941 sec)\n",
      "Step 46100 (epoch 17): cost = -1.25892925262 (68.724378109 sec)\n",
      "Step 46200 (epoch 17): cost = -10.4862785339 (69.2375750542 sec)\n",
      "Step 46300 (epoch 17): cost = -19.0916023254 (68.2954189777 sec)\n",
      "Step 46400 (epoch 17): cost = -20.82213974 (65.6271028519 sec)\n",
      "Step 46500 (epoch 17): cost = -16.4332618713 (79.0264649391 sec)\n",
      "Step 46600 (epoch 17): cost = 0.606267929077 (68.8205981255 sec)\n",
      "Step 46700 (epoch 17): cost = -15.8211402893 (68.7681407928 sec)\n",
      "Step 46800 (epoch 18): cost = -10.4616451263 (88.0419290066 sec)\n",
      "Step 46900 (epoch 18): cost = 5.69402122498 (114.219311953 sec)\n",
      "Step 47000 (epoch 18): cost = -19.0538406372 (64.9753420353 sec)\n",
      "Step 47100 (epoch 18): cost = -19.1687469482 (73.8139169216 sec)\n",
      "Step 47200 (epoch 18): cost = -7.68465995789 (70.6223618984 sec)\n",
      "Step 47300 (epoch 18): cost = -47.328453064 (75.0093312263 sec)\n",
      "Step 47400 (epoch 18): cost = -8.02725601196 (72.3034229279 sec)\n",
      "Step 47500 (epoch 18): cost = -1.44691848755 (70.4880120754 sec)\n",
      "Step 47600 (epoch 18): cost = -14.2449808121 (104.452627897 sec)\n",
      "Step 47700 (epoch 18): cost = -28.2056999207 (76.986716032 sec)\n",
      "Step 47800 (epoch 18): cost = -7.49584627151 (67.8092541695 sec)\n",
      "Step 47900 (epoch 18): cost = -12.3945579529 (74.4944450855 sec)\n",
      "Step 48000 (epoch 18): cost = 2.81218719482 (72.574406147 sec)\n",
      "Step 48100 (epoch 18): cost = -19.8547229767 (72.8855509758 sec)\n",
      "Step 48200 (epoch 18): cost = -7.33100128174 (72.0085430145 sec)\n",
      "Step 48300 (epoch 18): cost = -6.18923377991 (88.4286179543 sec)\n",
      "Step 48400 (epoch 18): cost = -10.6890268326 (75.1397600174 sec)\n",
      "Step 48500 (epoch 18): cost = -26.9362716675 (78.6081438065 sec)\n",
      "Step 48600 (epoch 18): cost = -14.8190994263 (67.0898149014 sec)\n",
      "Step 48700 (epoch 18): cost = -15.2442960739 (72.966301918 sec)\n",
      "Step 48800 (epoch 18): cost = -20.8708152771 (81.6115019321 sec)\n",
      "Step 48900 (epoch 18): cost = -8.34210205078 (68.2312488556 sec)\n",
      "Step 49000 (epoch 18): cost = -22.0488414764 (75.9776310921 sec)\n",
      "Step 49100 (epoch 18): cost = -15.197013855 (66.5725839138 sec)\n",
      "Step 49200 (epoch 18): cost = -30.6386241913 (67.9348509312 sec)\n",
      "Step 49300 (epoch 18): cost = -40.0578155518 (67.4293489456 sec)\n",
      "Step 49400 (epoch 18): cost = 0.499853134155 (65.002051115 sec)\n",
      "Step 49500 (epoch 19): cost = -14.1930885315 (65.3365569115 sec)\n",
      "Step 49600 (epoch 19): cost = -17.5314292908 (77.9629089832 sec)\n",
      "Step 49700 (epoch 19): cost = -10.9905071259 (70.4654459953 sec)\n",
      "Step 49800 (epoch 19): cost = 2.7689666748 (74.391493082 sec)\n",
      "Step 49900 (epoch 19): cost = -16.4721183777 (87.1134989262 sec)\n",
      "Step 50000 (epoch 19): cost = -26.0241260529 (66.7045378685 sec)\n",
      "Step 50100 (epoch 19): cost = -0.811944961548 (71.243997097 sec)\n",
      "Step 50200 (epoch 19): cost = -10.1623306274 (85.8297710419 sec)\n",
      "Step 50300 (epoch 19): cost = -37.5479850769 (88.1633028984 sec)\n",
      "Step 50400 (epoch 19): cost = -13.4895763397 (86.4009890556 sec)\n",
      "Step 50500 (epoch 19): cost = -1.72083282471 (78.3383228779 sec)\n",
      "Step 50600 (epoch 19): cost = 5.89131498337 (77.1449358463 sec)\n",
      "Step 50700 (epoch 19): cost = -15.4944190979 (70.9178040028 sec)\n",
      "Step 50800 (epoch 19): cost = 7.8623342514 (66.2590949535 sec)\n",
      "Step 50900 (epoch 19): cost = -10.5547866821 (67.1036250591 sec)\n",
      "Step 51000 (epoch 19): cost = -5.71610355377 (68.4853820801 sec)\n",
      "Step 51100 (epoch 19): cost = -19.6188259125 (74.288823843 sec)\n",
      "Step 51200 (epoch 19): cost = -4.12885665894 (70.0933029652 sec)\n",
      "Step 51300 (epoch 19): cost = -10.3088779449 (3148.12154484 sec)\n",
      "Step 51400 (epoch 19): cost = -9.21058082581 (32.4235990047 sec)\n",
      "Step 51500 (epoch 19): cost = -17.7934875488 (31.8011069298 sec)\n",
      "Step 51600 (epoch 19): cost = -6.23769187927 (31.3497650623 sec)\n",
      "Step 51700 (epoch 19): cost = -62.2499160767 (34.6676502228 sec)\n",
      "Step 51800 (epoch 19): cost = -14.3364610672 (39.0088069439 sec)\n",
      "Step 51900 (epoch 19): cost = -12.3203678131 (38.7767879963 sec)\n",
      "Step 52000 (epoch 19): cost = -3.43066620827 (40.0338799953 sec)\n",
      "Step 52100 (epoch 19): cost = -29.3558082581 (44.3625361919 sec)\n",
      "Step 52200 (epoch 19): cost = -8.76265525818 (46.5113320351 sec)\n",
      "Step 52300 (epoch 20): cost = -4.07636642456 (39.5479240417 sec)\n",
      "Step 52400 (epoch 20): cost = -35.2089767456 (47.4816529751 sec)\n",
      "Step 52500 (epoch 20): cost = -8.97724437714 (47.536921978 sec)\n",
      "Step 52600 (epoch 20): cost = -3.65865898132 (47.4938678741 sec)\n",
      "Step 52700 (epoch 20): cost = -20.1201591492 (47.652061224 sec)\n",
      "Step 52800 (epoch 20): cost = -12.5881347656 (47.4887208939 sec)\n",
      "Step 52900 (epoch 20): cost = -6.48471927643 (47.6449670792 sec)\n",
      "Step 53000 (epoch 20): cost = 12.9016113281 (47.5152771473 sec)\n",
      "Step 53100 (epoch 20): cost = -36.3945808411 (47.5860290527 sec)\n",
      "Step 53200 (epoch 20): cost = -21.8353977203 (47.4144568443 sec)\n",
      "Step 53300 (epoch 20): cost = -29.4082069397 (47.6048769951 sec)\n",
      "Step 53400 (epoch 20): cost = -26.3429393768 (47.5246250629 sec)\n",
      "Step 53500 (epoch 20): cost = -26.1090316772 (47.8892400265 sec)\n",
      "Step 53600 (epoch 20): cost = -23.7721633911 (47.4226779938 sec)\n",
      "Step 53700 (epoch 20): cost = -2.94399452209 (48.0742909908 sec)\n",
      "Step 53800 (epoch 20): cost = -11.781879425 (64.0440218449 sec)\n",
      "Step 53900 (epoch 20): cost = -9.24857711792 (45.7090411186 sec)\n",
      "Step 54000 (epoch 20): cost = -59.634727478 (49.1796748638 sec)\n",
      "Step 54100 (epoch 20): cost = -7.57622337341 (47.3764140606 sec)\n",
      "Step 54200 (epoch 20): cost = -11.0804719925 (46.3801109791 sec)\n",
      "Step 54300 (epoch 20): cost = -14.3688316345 (53.1999590397 sec)\n",
      "Step 54400 (epoch 20): cost = -14.2554473877 (43.5611407757 sec)\n",
      "Step 54500 (epoch 20): cost = -17.6048622131 (46.9061830044 sec)\n",
      "Step 54600 (epoch 20): cost = -26.8916969299 (48.5768640041 sec)\n",
      "Step 54700 (epoch 20): cost = -17.4938545227 (53.20322299 sec)\n",
      "Step 54800 (epoch 20): cost = -15.4226531982 (46.7162330151 sec)\n",
      "Step 54900 (epoch 20): cost = -13.8368396759 (44.7665281296 sec)\n"
     ]
    }
   ],
   "source": [
    "# train model\n",
    "num_epochs = 20\n",
    "cd_steps = 25 #15\n",
    "\n",
    "#LEARN_RATE = 0.3  #1.0 #good starting rate\n",
    "tf.set_random_seed(0)\n",
    "\n",
    "start_time = time.time()\n",
    "while mnist_data.train.epochs_completed <= num_epochs:\n",
    "\n",
    "    #Note: the next_batch method gives both the image and its label.\n",
    "    #We only take the image (slot '0')\n",
    "    #Also allow image to be cropped to IMAGE_SIZE pixels\n",
    "    batch = mnist_data.train.next_batch(BATCH_SIZE)[0][:,0:IMAGE_SIZE]\n",
    "    \n",
    "    feed_dict = build_feed_dict(batch, v_expval_data, h_expval_data, vh_expval_data, v_expval_model, h_expval_model, vh_expval_model)\n",
    "\n",
    "    _, cost_value = sess.run([train_op, cost],feed_dict)\n",
    "    \n",
    "    if global_step.eval() % 100 == 0:\n",
    "        duration = time.time() - start_time\n",
    "        start_time = time.time()\n",
    "        \n",
    "        print 'Step {0} (epoch {1}): cost = {2} ({3} sec)'.format(global_step.eval(), mnist_data.train.epochs_completed, cost_value, duration)\n",
    "        \n",
    "        #saver.save(sess, LOGDIR, global_step)\n",
    "        \n",
    "        #update event log\n",
    "        \n",
    "        #sample_images = generate_image(batch, 15)\n",
    "        #sess.run(gen_images, {gen_images: sample_images})\n",
    "        #tf.image_summary('sample_images', sample_images)\n",
    "        \n",
    "        summary_str = sess.run(summary_op, feed_dict=feed_dict)\n",
    "        summary_writer.add_summary(summary_str, step)\n",
    "        \n",
    "        "
   ]
  },
  {
   "cell_type": "markdown",
   "metadata": {},
   "source": [
    "### to do: \n",
    "- convert current \"fake\" cost function so that I explicitly manually update the gradients (i.e., use apply_gradients() instead of minimize() as train_op)\n",
    "- implement proxies to cost function, as in various documentation?\n",
    "- reorganize computational graph\n",
    "- try to train a model that gives reasonable generative behaviour (not just blobs)\n",
    "- figure out how to train more efficiently (gpu on amazon instance?)"
   ]
  },
  {
   "cell_type": "code",
   "execution_count": 121,
   "metadata": {
    "collapsed": false
   },
   "outputs": [
    {
     "data": {
      "text/plain": [
       "'20epoch-RBM-54997'"
      ]
     },
     "execution_count": 121,
     "metadata": {},
     "output_type": "execute_result"
    }
   ],
   "source": [
    "#save model\n",
    "saver = tf.train.Saver()\n",
    "saver.save(sess, '20epoch-RBM', global_step = global_step)"
   ]
  },
  {
   "cell_type": "code",
   "execution_count": 85,
   "metadata": {
    "collapsed": true
   },
   "outputs": [],
   "source": [
    "#reload model\n",
    "chkpt = tf.train.get_checkpoint_state('/home/coolguy/code/tensorflow/tensorflow-training')\n",
    "saver.restore(sess, chkpt.model_checkpoint_path)"
   ]
  },
  {
   "cell_type": "markdown",
   "metadata": {},
   "source": [
    "# Workspace"
   ]
  },
  {
   "cell_type": "code",
   "execution_count": 122,
   "metadata": {
    "collapsed": false
   },
   "outputs": [],
   "source": [
    "def generate_state(start_state, num_iterations):\n",
    "    #starting with any visible state, perform gibbs sampling to generate new visible state\n",
    "    vis_probs = update_vhv(start_state, num_iterations)\n",
    "    #gen_state = sess.run(v_prob_to_state, {v_probabilities: vis_probs})\n",
    "    gen_state = vis_probs #gives greyscale image based on probs\n",
    "    \n",
    "    #convert this state to an image for display\n",
    "    #gen_image = tf.reshape(gen_state, [BATCH_SIZE, IMAGE_HEIGHT, IMAGE_WIDTH, IMAGE_CHANNELS])\n",
    "    return gen_state\n",
    "\n",
    "def to_image(flat_tensor):\n",
    "    if type(flat_tensor) == tf.python.framework.ops.Tensor:\n",
    "        flat_array = tf.squeeze(flat_tensor).eval()\n",
    "    else:\n",
    "        flat_array = flat_tensor\n",
    "        \n",
    "    if len(flat_array.shape) == 1: #no explicit batches\n",
    "        flat_length = flat_array.shape\n",
    "        square_length = int(np.sqrt(flat_length))\n",
    "        square_array = flat_array.reshape([square_length, square_length])\n",
    "    else:\n",
    "        batch_size, flat_length = flat_array.shape\n",
    "        square_length = int(np.sqrt(flat_length))\n",
    "        square_array = flat_array.reshape([batch_size, square_length, square_length])\n",
    "    return square_array"
   ]
  },
  {
   "cell_type": "code",
   "execution_count": 123,
   "metadata": {
    "collapsed": true
   },
   "outputs": [],
   "source": [
    "init_bias = to_image(vis_init)\n",
    "init_bias_remove_giant = init_bias*(np.abs(init_bias)<1.0e38).astype(float) #remove gigantic biases\n",
    "init_bias_scaled = init_bias_remove_giant + np.min(init_bias_remove_giant)*(np.abs(init_bias)>1.0e38).astype(float) #rescale giantic biases and recombine\n",
    "#plt.imshow(init_bias_scaled); #initial biases\n",
    "\n",
    "tf.set_random_seed(0)\n",
    "batch = mnist_data.train.next_batch(BATCH_SIZE)[0][:,0:IMAGE_SIZE]"
   ]
  },
  {
   "cell_type": "code",
   "execution_count": 124,
   "metadata": {
    "collapsed": false
   },
   "outputs": [
    {
     "data": {
      "image/png": "[encoded data removed]",
      "text/plain": [
       "<matplotlib.figure.Figure at 0x7fb1f1286cd0>"
      ]
     },
     "metadata": {},
     "output_type": "display_data"
    }
   ],
   "source": [
    "plt.imshow(to_image(batch)[0]);"
   ]
  },
  {
   "cell_type": "code",
   "execution_count": 125,
   "metadata": {
    "collapsed": false,
    "scrolled": true
   },
   "outputs": [
    {
     "data": {
      "image/png": "[encoded data removed]",
      "text/plain": [
       "<matplotlib.figure.Figure at 0x7fb1f0ea65d0>"
      ]
     },
     "metadata": {},
     "output_type": "display_data"
    }
   ],
   "source": [
    "sample_images = generate_state(batch, 500) #15\n",
    "plt.imshow(to_image(sample_images)[0]);"
   ]
  },
  {
   "cell_type": "code",
   "execution_count": 126,
   "metadata": {
    "collapsed": false
   },
   "outputs": [
    {
     "data": {
      "image/png": "[encoded data removed]",
      "text/plain": [
       "<matplotlib.figure.Figure at 0x7fb1ee58ef10>"
      ]
     },
     "metadata": {},
     "output_type": "display_data"
    }
   ],
   "source": [
    "plt.imshow(to_image(batch)[2]);"
   ]
  },
  {
   "cell_type": "code",
   "execution_count": 127,
   "metadata": {
    "collapsed": false
   },
   "outputs": [
    {
     "data": {
      "image/png": "[encoded data removed]",
      "text/plain": [
       "<matplotlib.figure.Figure at 0x7fb1f0dd3810>"
      ]
     },
     "metadata": {},
     "output_type": "display_data"
    }
   ],
   "source": [
    "plt.imshow(to_image(sample_images)[2]);"
   ]
  },
  {
   "cell_type": "code",
   "execution_count": 128,
   "metadata": {
    "collapsed": false
   },
   "outputs": [
    {
     "data": {
      "image/png": "[encoded data removed]",
      "text/plain": [
       "<matplotlib.figure.Figure at 0x7fb1f0dc1110>"
      ]
     },
     "metadata": {},
     "output_type": "display_data"
    }
   ],
   "source": [
    "#run gibbs sampling from random inputs\n",
    "random_gibbs_images = generate_state(np.random.random(size=[BATCH_SIZE,IMAGE_HEIGHT*IMAGE_WIDTH]), 200)\n",
    "plt.imshow(to_image(random_gibbs_images)[0]);"
   ]
  },
  {
   "cell_type": "code",
   "execution_count": 21,
   "metadata": {
    "collapsed": false
   },
   "outputs": [
    {
     "data": {
      "text/plain": [
       "array([[-0.01409554, -0.00536683, -0.00565238, ...,  0.01831558,\n",
       "        -0.00584126, -0.00820349],\n",
       "       [ 0.00997176,  0.01120596, -0.00595941, ...,  0.01863942,\n",
       "        -0.00650183,  0.00103016],\n",
       "       [ 0.01185286, -0.00741214,  0.00017319, ..., -0.01414159,\n",
       "         0.01406672, -0.00414365],\n",
       "       ..., \n",
       "       [-0.00112381,  0.00889921, -0.00948953, ..., -0.01556171,\n",
       "         0.00801014,  0.0082342 ],\n",
       "       [-0.00777897, -0.00974959, -0.01762774, ..., -0.00301312,\n",
       "         0.00079663, -0.01516621],\n",
       "       [ 0.01714878,  0.00978682, -0.01005803, ..., -0.01142717,\n",
       "        -0.00302883, -0.01486796]], dtype=float32)"
      ]
     },
     "execution_count": 21,
     "metadata": {},
     "output_type": "execute_result"
    }
   ],
   "source": [
    "W.eval()"
   ]
  },
  {
   "cell_type": "code",
   "execution_count": 22,
   "metadata": {
    "collapsed": false
   },
   "outputs": [
    {
     "data": {
      "text/plain": [
       "2.4584517"
      ]
     },
     "execution_count": 22,
     "metadata": {},
     "output_type": "execute_result"
    }
   ],
   "source": [
    "np.max(np.abs(W.eval()))"
   ]
  },
  {
   "cell_type": "code",
   "execution_count": 23,
   "metadata": {
    "collapsed": false
   },
   "outputs": [],
   "source": [
    "a_vals = a.eval()\n",
    "a_vals = a_vals*(np.abs(a_vals)<1.0e38).astype(float) #kill off ridiculously high biases"
   ]
  },
  {
   "cell_type": "code",
   "execution_count": 24,
   "metadata": {
    "collapsed": false,
    "scrolled": true
   },
   "outputs": [
    {
     "data": {
      "text/plain": [
       "1000.0"
      ]
     },
     "execution_count": 24,
     "metadata": {},
     "output_type": "execute_result"
    }
   ],
   "source": [
    "np.max(np.abs(a_vals))"
   ]
  },
  {
   "cell_type": "code",
   "execution_count": 25,
   "metadata": {
    "collapsed": false
   },
   "outputs": [
    {
     "data": {
      "text/plain": [
       "0.0012470795772969723"
      ]
     },
     "execution_count": 25,
     "metadata": {},
     "output_type": "execute_result"
    }
   ],
   "source": [
    "np.min(np.abs(a_vals))"
   ]
  },
  {
   "cell_type": "code",
   "execution_count": 26,
   "metadata": {
    "collapsed": false
   },
   "outputs": [
    {
     "data": {
      "text/plain": [
       "1.6849988"
      ]
     },
     "execution_count": 26,
     "metadata": {},
     "output_type": "execute_result"
    }
   ],
   "source": [
    "np.max(np.abs(b.eval()))"
   ]
  },
  {
   "cell_type": "code",
   "execution_count": 27,
   "metadata": {
    "collapsed": false
   },
   "outputs": [
    {
     "data": {
      "text/plain": [
       "1.5832484e-08"
      ]
     },
     "execution_count": 27,
     "metadata": {},
     "output_type": "execute_result"
    }
   ],
   "source": [
    "np.min(np.abs(b.eval()))"
   ]
  },
  {
   "cell_type": "code",
   "execution_count": 28,
   "metadata": {
    "collapsed": false
   },
   "outputs": [
    {
     "data": {
      "text/plain": [
       "7.4040145e-08"
      ]
     },
     "execution_count": 28,
     "metadata": {},
     "output_type": "execute_result"
    }
   ],
   "source": [
    "np.min(np.abs(W.eval()))"
   ]
  },
  {
   "cell_type": "code",
   "execution_count": 20,
   "metadata": {
    "collapsed": true
   },
   "outputs": [],
   "source": [
    "start_state = batch\n",
    "hidden_probs = sess.run(h_prob, feed_dict={v_state: start_state})\n",
    "hidden_state = sess.run(h_prob_to_state, feed_dict={h_probabilities: hidden_probs})\n",
    "\n",
    "visible_probs = sess.run(v_prob, feed_dict={h_state: hidden_state})\n",
    "visible_state = sess.run(v_prob_to_state, feed_dict={v_probabilities: visible_probs})"
   ]
  },
  {
   "cell_type": "code",
   "execution_count": 21,
   "metadata": {
    "collapsed": false,
    "scrolled": true
   },
   "outputs": [
    {
     "data": {
      "text/plain": [
       "1.0"
      ]
     },
     "execution_count": 21,
     "metadata": {},
     "output_type": "execute_result"
    }
   ],
   "source": [
    "np.max(hidden_probs[0]-hidden_probs[7])"
   ]
  },
  {
   "cell_type": "code",
   "execution_count": 22,
   "metadata": {
    "collapsed": false
   },
   "outputs": [
    {
     "data": {
      "image/png": "[encoded data removed]",
      "text/plain": [
       "<matplotlib.figure.Figure at 0x7fb1f1253dd0>"
      ]
     },
     "metadata": {},
     "output_type": "display_data"
    }
   ],
   "source": [
    "plt.imshow(to_image(hidden_probs)[7]);"
   ]
  },
  {
   "cell_type": "code",
   "execution_count": 23,
   "metadata": {
    "collapsed": false,
    "scrolled": true
   },
   "outputs": [
    {
     "data": {
      "image/png": "[encoded data removed]",
      "text/plain": [
       "<matplotlib.figure.Figure at 0x7fb1f11af250>"
      ]
     },
     "metadata": {},
     "output_type": "display_data"
    }
   ],
   "source": [
    "plt.imshow(to_image(hidden_probs)[0]);"
   ]
  },
  {
   "cell_type": "code",
   "execution_count": 24,
   "metadata": {
    "collapsed": false
   },
   "outputs": [
    {
     "data": {
      "text/plain": [
       "<matplotlib.image.AxesImage at 0x7fb1f1056910>"
      ]
     },
     "execution_count": 24,
     "metadata": {},
     "output_type": "execute_result"
    },
    {
     "data": {
      "image/png": "[encoded data removed]",
      "text/plain": [
       "<matplotlib.figure.Figure at 0x7fb1f113cd50>"
      ]
     },
     "metadata": {},
     "output_type": "display_data"
    }
   ],
   "source": [
    "plt.imshow(to_image(hidden_probs[0]-hidden_probs[7]))"
   ]
  },
  {
   "cell_type": "code",
   "execution_count": null,
   "metadata": {
    "collapsed": true
   },
   "outputs": [],
   "source": []
  },
  {
   "cell_type": "code",
   "execution_count": null,
   "metadata": {
    "collapsed": true
   },
   "outputs": [],
   "source": []
  }
 ],
 "metadata": {
  "kernelspec": {
   "display_name": "Python 2",
   "language": "python",
   "name": "python2"
  },
  "language_info": {
   "codemirror_mode": {
    "name": "ipython",
    "version": 2
   },
   "file_extension": ".py",
   "mimetype": "text/x-python",
   "name": "python",
   "nbconvert_exporter": "python",
   "pygments_lexer": "ipython2",
   "version": "2.7.10"
  }
 },
 "nbformat": 4,
 "nbformat_minor": 0
}
